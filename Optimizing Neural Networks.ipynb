{
 "cells": [
  {
   "cell_type": "markdown",
   "id": "54052720-77cf-411e-bffa-c79f593ea189",
   "metadata": {},
   "source": [
    "# Improving Neural Networks\n",
    "### 1. Weight Initialization\n",
    "##### Xavier Initialization: \n",
    "Useful for sigmoid and hyperbolic tangent activations, it sets the weights such that the variance of the inputs and outputs is the same.\n",
    "##### He Initialization: \n",
    "Effective for ReLU activation functions, this method sets the weights based on the number of incoming nodes to avoid exploding gradients.\n",
    "##### Zero Initialization: \n",
    "Avoid this, as it can lead to symmetry problems where neurons learn the same features.\n",
    "### 2. Optimization Algorithms\n",
    "##### Stochastic Gradient Descent (SGD):\n",
    "Computes the gradient using only a single or a subset (mini-batch) of data points per iteration.\n",
    "Variants:\n",
    "##### SGD with Momentum: \n",
    "Adds a fraction of the previous gradient to the current gradient, helping to accelerate convergence.\n",
    "##### Nesterov Accelerated Gradient (NAG):\n",
    "Similar to momentum but corrects the direction of the gradient with a look-ahead step.\n",
    "##### Adam: \n",
    "Combines momentum and RMSProp by computing adaptive learning rates for each parameter. It’s widely used due to its efficiency and adaptability.\n",
    "##### RMSProp:\n",
    "Keeps an exponentially decaying average of the squared gradients and adjusts the learning rate accordingly.\n",
    "##### Adagrad:\n",
    "Adapts learning rates based on the frequency of updates for each parameter.\n",
    "### 3. Learning Rate Scheduling\n",
    "##### Step Decay:\n",
    "Decrease the learning rate by a factor after a fixed number of epochs.\n",
    "##### Exponential Decay:\n",
    "Continuously decreases the learning rate exponentially over time.\n",
    "##### Cyclical Learning Rates (CLR):\n",
    "Varies the learning rate between a minimum and maximum bound, potentially escaping local minima.\n",
    "##### Warm Restarts (Cosine Annealing): Periodically increases and decreases the learning rate.\n",
    "### 4. Regularization Techniques\n",
    "#### L2 Regularization (Weight Decay):\n",
    "Adds a penalty proportional to the square of the weights, preventing overfitting by shrinking large weights.\n",
    "#### L1 Regularization:\n",
    "Encourages sparsity by penalizing the absolute value of the weights, potentially leading to sparse models.\n",
    "#### Dropout:\n",
    "Randomly sets a fraction of the input units to 0 at each update during training to prevent overfitting.\n",
    "#### Batch Normalization:\n",
    "Normalizes activations by subtracting the batch mean and dividing by the batch standard deviation, speeding up training and improving generalization.\n",
    "### 5. Gradient Clipping\n",
    "Prevents exploding gradients by capping gradients during backpropagation to a maximum threshold, improving stability during training.\n",
    "### 6. Data Augmentation\n",
    "Helps improve generalization by artificially increasing the size and diversity of the training dataset through transformations like flipping, rotating, scaling, and cropping images.\n",
    "### 7. Transfer Learning\n",
    "Fine-tuning a pre-trained model on a new dataset by reusing layers and weights from models trained on large datasets (e.g., ImageNet) and training the final layers specific to the new task.\n",
    "### 8. Early Stopping\n",
    "Stops training when the validation loss starts to increase, avoiding overfitting while also reducing the training time.\n",
    "### 9. Parameter Tuning\n",
    "##### Grid Search: Tries different combinations of hyperparameters to find the optimal ones.\n",
    "##### Random Search: Randomly selects hyperparameter combinations, often more efficient than grid search for high-dimensional spaces.\n",
    "##### Bayesian Optimization: Uses past evaluation results to predict good hyperparameters and is more efficient than grid and random search.\n",
    "### 10. Advanced Techniques\n",
    "##### Distillation: Trains a smaller network (student) to mimic the predictions of a larger, well-trained network (teacher), making the smaller model faster and lighter without significant accuracy loss.\n",
    "##### Ensemble Methods: Combine predictions from multiple models to improve robustness and accuracy. Techniques include bagging, boosting, and stacking.\n",
    "##### Neural Architecture Search (NAS): Automates the process of designing neural network architectures, optimizing model performance based on predefined objectives (e.g., accuracy, latency)."
   ]
  },
  {
   "cell_type": "markdown",
   "id": "e7700164-3c03-4cf7-8f3c-bbcdff70169e",
   "metadata": {},
   "source": [
    "### 1. Load and Preprocess Dataset\n",
    "To implement neural network optimization techniques step by step using the diabetes dataset, we'll break it down into sections, covering key areas like data preprocessing, weight initialization, optimization algorithms, regularization, and early stopping. We’ll use TensorFlow/Keras to implement the neural network"
   ]
  },
  {
   "cell_type": "code",
   "execution_count": 3,
   "id": "b75ed12e-c070-4e99-acde-4a1bad5cf37f",
   "metadata": {},
   "outputs": [],
   "source": [
    "import numpy as np\n",
    "import pandas as pd\n",
    "from sklearn.model_selection import train_test_split\n",
    "from sklearn.preprocessing import StandardScaler\n",
    "from sklearn.metrics import accuracy_score\n",
    "import tensorflow as tf\n",
    "from tensorflow.keras.models import Sequential\n",
    "from tensorflow.keras.layers import Dense, Dropout, BatchNormalization\n",
    "from tensorflow.keras.optimizers import Adam, SGD\n",
    "from tensorflow.keras.callbacks import EarlyStopping, ReduceLROnPlateau\n",
    "import matplotlib.pyplot as plt\n"
   ]
  },
  {
   "cell_type": "code",
   "execution_count": 4,
   "id": "138175ec-3dd1-44b2-8068-8776ac441965",
   "metadata": {},
   "outputs": [],
   "source": [
    "from sklearn.datasets import load_diabetes\n",
    "# Load the dataset\n",
    "diabetes = load_diabetes()\n",
    "X = diabetes.data\n",
    "y = diabetes.target"
   ]
  },
  {
   "cell_type": "code",
   "execution_count": 5,
   "id": "1e892ed4-281d-4723-a882-d94fb14ffd48",
   "metadata": {},
   "outputs": [],
   "source": [
    "# Get feature names\n",
    "X_names = diabetes.feature_names"
   ]
  },
  {
   "cell_type": "code",
   "execution_count": 6,
   "id": "9b5030a6-c8e1-4f26-9004-a30143af66b0",
   "metadata": {},
   "outputs": [
    {
     "data": {
      "text/plain": [
       "['age', 'sex', 'bmi', 'bp', 's1', 's2', 's3', 's4', 's5', 's6']"
      ]
     },
     "execution_count": 6,
     "metadata": {},
     "output_type": "execute_result"
    }
   ],
   "source": [
    "X_names"
   ]
  },
  {
   "cell_type": "code",
   "execution_count": 7,
   "id": "0e802610-da77-4e13-9008-eb259375175d",
   "metadata": {},
   "outputs": [
    {
     "data": {
      "text/plain": [
       "'target'"
      ]
     },
     "execution_count": 7,
     "metadata": {},
     "output_type": "execute_result"
    }
   ],
   "source": [
    "y_name = 'target'\n",
    "y_name"
   ]
  },
  {
   "cell_type": "code",
   "execution_count": 8,
   "id": "9c66af9f-a9ee-4973-bdf3-af92dca5be3f",
   "metadata": {},
   "outputs": [
    {
     "data": {
      "text/plain": [
       "array([-1.47194752e-02, -1.00165882e+00, -1.44579915e-01,  6.99512942e-01,\n",
       "       -2.22496178e-01, -7.15965848e-01, -1.83538046e-01, -1.15749134e+00,\n",
       "       -5.47147277e-01,  2.05006151e+00, -6.64021672e-01, -1.07957508e+00,\n",
       "        3.48889755e-01,  4.26806019e-01, -4.43258925e-01,  2.45001404e-01,\n",
       "        1.80071184e-01, -1.05621783e-01, -7.15965848e-01,  2.06043272e-01,\n",
       "       -1.09256112e+00, -1.33929596e+00, -1.09256112e+00,  1.20596866e+00,\n",
       "        4.13819975e-01,  6.47568766e-01, -1.96524090e-01, -8.71798376e-01,\n",
       "       -2.74440354e-01,  1.69943833e+00, -3.00412442e-01, -1.20943552e+00,\n",
       "        2.45262887e+00, -8.45826288e-01, -1.13151925e+00, -6.51035629e-01,\n",
       "        1.46568953e+00,  1.60853602e+00,  1.29687096e+00, -8.06868156e-01,\n",
       "       -6.77007716e-01, -1.26137969e+00, -1.18346343e+00, -7.80896068e-01,\n",
       "        1.38777327e+00, -1.28735178e+00,  4.91736239e-01, -1.31593871e-01,\n",
       "       -1.00165882e+00, -1.31593871e-01,  3.72247006e-02,  9.46247777e-01,\n",
       "       -1.20943552e+00, -6.25063541e-01,  3.87847887e-01, -3.13398486e-01,\n",
       "       -1.30033783e+00, -1.49512849e+00,  2.32015360e-01,  2.32015360e-01,\n",
       "       -1.18346343e+00, -1.05621783e-01, -1.30033783e+00, -3.13398486e-01,\n",
       "       -1.05360299e+00,  1.41113052e-01, -2.77055191e-02, -7.15965848e-01,\n",
       "        1.02154920e-01,  3.35903711e-01, -1.35228200e+00,  1.53061975e+00,\n",
       "        6.47568766e-01, -5.34161233e-01, -8.71798376e-01, -1.43019827e+00,\n",
       "        2.32015360e-01,  6.21596678e-01,  1.29687096e+00, -5.08189145e-01,\n",
       "       -1.18607827e-01, -1.31332387e+00, -1.30033783e+00,  7.51457118e-01,\n",
       "       -1.13151925e+00, -1.44579915e-01, -1.26137969e+00, -2.35482222e-01,\n",
       "       -1.43019827e+00, -5.34161233e-01, -7.02979804e-01,  1.54099096e-01,\n",
       "       -1.35228200e+00, -7.28951892e-01, -8.06868156e-01,  1.28127008e-01,\n",
       "       -2.77055191e-02,  1.64749415e+00, -7.80896068e-01, -8.97770464e-01,\n",
       "       -3.13398486e-01, -6.51035629e-01,  1.94617316e+00,  5.95624590e-01,\n",
       "       -7.41937936e-01, -1.28735178e+00, -2.35482222e-01, -1.05621783e-01,\n",
       "        1.03715008e+00, -9.23742551e-01, -6.25063541e-01, -1.20943552e+00,\n",
       "        1.21895470e+00,  1.88124294e+00,  1.37478723e+00,  9.98191953e-01,\n",
       "        1.59554997e+00,  1.67346624e+00,  3.48889755e-01,  6.21596678e-01,\n",
       "        6.21596678e-01,  2.70973492e-01,  3.61875799e-01, -8.84784420e-01,\n",
       "       -4.04300794e-01,  1.15140964e-01, -6.89993760e-01, -5.60133321e-01,\n",
       "       -4.82217057e-01,  1.50464767e+00,  1.58256393e+00,  7.61828325e-02,\n",
       "       -5.86105409e-01, -8.97770464e-01, -6.38049585e-01,  1.55659184e+00,\n",
       "       -8.71798376e-01,  1.66048019e+00,  2.38769865e+00,  1.67346624e+00,\n",
       "       -4.43258925e-01,  2.14096382e+00,  1.07610822e+00, -1.19644947e+00,\n",
       "        2.83959536e-01,  1.38777327e+00,  3.35903711e-01, -3.13398486e-01,\n",
       "       -7.28951892e-01, -3.39370574e-01,  1.76436855e+00, -8.32840244e-01,\n",
       "        1.81631272e+00, -1.05360299e+00,  5.82638546e-01,  4.39792063e-01,\n",
       "       -1.65096101e+00, -8.84784420e-01, -7.28951892e-01,  5.56666458e-01,\n",
       "       -1.28735178e+00,  8.42359425e-01,  2.57987448e-01, -2.74440354e-01,\n",
       "        8.03401293e-01, -1.20943552e+00, -1.06658903e+00,  8.81317557e-01,\n",
       "        1.50464767e+00, -1.73343121e-03, -1.36526805e+00, -1.01464486e+00,\n",
       "        1.85527085e+00, -6.64021672e-01, -1.47194752e-02, -3.26384530e-01,\n",
       "        1.10208030e+00,  9.46247777e-01, -9.23742551e-01, -1.47194752e-02,\n",
       "       -5.86105409e-01, -1.14450530e+00, -1.83538046e-01,  4.26806019e-01,\n",
       "        1.46568953e+00, -6.64021672e-01, -1.96524090e-01, -1.18607827e-01,\n",
       "       -1.44579915e-01, -9.49714639e-01,  1.81631272e+00,  3.35903711e-01,\n",
       "       -7.93882112e-01, -4.69231013e-01, -8.58812332e-01, -3.91314750e-01,\n",
       "       -1.04061695e+00, -3.00412442e-01, -1.31593871e-01, -8.06868156e-01,\n",
       "        7.61828325e-02, -1.46915640e+00,  5.69652502e-01,  9.07289645e-01,\n",
       "        1.62152206e+00, -6.89993760e-01,  5.69652502e-01,  6.47568766e-01,\n",
       "        3.72247006e-02, -9.75686727e-01,  5.04722283e-01, -1.06658903e+00,\n",
       "       -1.02763090e+00, -1.33929596e+00, -1.13151925e+00,  1.43971745e+00,\n",
       "        1.24492679e+00,  1.86825690e+00,  8.03401293e-01,  4.26806019e-01,\n",
       "       -9.62700683e-01, -7.67910024e-01,  1.29687096e+00, -2.77055191e-02,\n",
       "       -9.75686727e-01,  7.25485030e-01, -9.75686727e-01, -5.73119365e-01,\n",
       "        1.02154920e-01, -1.28735178e+00,  8.81317557e-01,  2.42386567e-02,\n",
       "        1.38777327e+00, -8.06868156e-01,  1.21895470e+00, -3.65342662e-01,\n",
       "       -1.10554717e+00, -1.04061695e+00,  1.36180118e+00,  1.42673140e+00,\n",
       "        1.59554997e+00,  3.22917667e-01, -1.05360299e+00, -1.36526805e+00,\n",
       "        4.52778107e-01, -3.52356618e-01, -9.62700683e-01, -1.31332387e+00,\n",
       "        1.37478723e+00,  8.16387337e-01,  1.95915920e+00,  1.17999657e+00,\n",
       "       -7.93882112e-01, -2.77055191e-02,  2.05006151e+00,  1.12526127e-02,\n",
       "        2.51755909e+00, -1.15749134e+00, -8.19854200e-01, -1.32630991e+00,\n",
       "       -1.46915640e+00, -6.38049585e-01,  2.02408942e+00, -4.69231013e-01,\n",
       "       -9.26357388e-02, -1.01464486e+00, -1.39124013e+00, -4.82217057e-01,\n",
       "        1.45270349e+00, -8.45826288e-01,  6.47568766e-01, -3.26384530e-01,\n",
       "        3.87847887e-01,  1.15402448e+00, -1.11853321e+00, -7.54923980e-01,\n",
       "        1.69943833e+00, -1.14450530e+00, -6.51035629e-01,  6.21596678e-01,\n",
       "        1.46568953e+00, -7.54923980e-01,  1.01117800e+00,  3.74861843e-01,\n",
       "        5.02107446e-02,  1.05013613e+00, -1.19644947e+00,  8.68331513e-01,\n",
       "       -9.36728595e-01, -1.09256112e+00,  2.33575448e+00,  1.24492679e+00,\n",
       "       -8.84784420e-01,  6.21596678e-01, -1.26137969e+00, -8.71798376e-01,\n",
       "       -8.19854200e-01, -1.57304475e+00, -3.00412442e-01, -8.97770464e-01,\n",
       "        1.59554997e+00, -1.13151925e+00,  5.95624590e-01,  1.08909426e+00,\n",
       "        1.30985701e+00, -3.65342662e-01, -1.40422618e+00,  2.57987448e-01,\n",
       "       -4.95203101e-01, -1.31593871e-01, -5.60133321e-01,  3.61875799e-01,\n",
       "       -1.05621783e-01,  1.41113052e-01, -6.66636509e-02, -7.15965848e-01,\n",
       "        8.81317557e-01,  4.91736239e-01, -5.60133321e-01,  5.04722283e-01,\n",
       "       -3.91314750e-01,  1.01117800e+00,  1.16701052e+00,  1.24492679e+00,\n",
       "        1.25791283e+00,  5.17708327e-01, -2.74440354e-01,  1.10208030e+00,\n",
       "       -9.62700683e-01, -2.22496178e-01,  1.19298261e+00,  6.08610634e-01,\n",
       "        1.53061975e+00,  1.54099096e-01, -1.04061695e+00, -7.28951892e-01,\n",
       "        1.99811734e+00, -7.93882112e-01,  8.03401293e-01, -7.41937936e-01,\n",
       "        8.29373381e-01,  1.43971745e+00,  3.35903711e-01, -5.08189145e-01,\n",
       "        6.21596678e-01, -1.70552003e-01, -1.70552003e-01, -8.32840244e-01,\n",
       "       -5.36776070e-02, -8.32840244e-01,  1.17999657e+00, -1.05360299e+00,\n",
       "       -9.75686727e-01, -5.60133321e-01,  1.55659184e+00, -1.19644947e+00,\n",
       "       -1.27436574e+00,  8.94303601e-01, -8.06868156e-01,  2.06304756e+00,\n",
       "        1.67346624e+00,  3.87847887e-01,  2.19290800e+00, -1.22242156e+00,\n",
       "        1.42673140e+00,  6.99512942e-01,  1.05013613e+00,  1.16701052e+00,\n",
       "       -3.78328706e-01,  1.93057228e-01, -1.15749134e+00,  5.82638546e-01,\n",
       "       -1.05360299e+00,  2.06043272e-01, -1.57565959e-01,  8.42359425e-01,\n",
       "       -4.04300794e-01,  1.07610822e+00,  1.20596866e+00, -1.45617035e+00,\n",
       "       -1.30033783e+00, -6.25063541e-01, -2.61454310e-01, -8.32840244e-01,\n",
       "       -1.07957508e+00,  8.68331513e-01, -1.04061695e+00,  6.34582722e-01,\n",
       "       -5.47147277e-01, -1.31332387e+00,  1.62152206e+00, -1.15749134e+00,\n",
       "       -4.43258925e-01, -1.07957508e+00,  1.56957789e+00,  1.37478723e+00,\n",
       "       -1.41721222e+00,  5.95624590e-01,  1.16701052e+00,  1.03715008e+00,\n",
       "        2.96945580e-01, -7.67910024e-01,  2.06043272e-01,  1.59554997e+00,\n",
       "        1.82929877e+00,  1.67346624e+00, -1.04061695e+00, -1.57565959e-01,\n",
       "        4.78750195e-01,  3.74861843e-01,  7.38471074e-01, -2.09510134e-01,\n",
       "        1.41374536e+00, -5.08189145e-01, -2.74440354e-01,  2.83959536e-01,\n",
       "        1.36180118e+00, -1.26137969e+00, -8.84784420e-01, -1.43019827e+00,\n",
       "       -7.96496949e-02,  7.77429206e-01,  1.05013613e+00, -7.93882112e-01,\n",
       "       -5.34161233e-01, -1.73343121e-03, -4.17286837e-01, -1.10554717e+00,\n",
       "        2.05006151e+00, -7.54923980e-01,  4.00833931e-01, -1.11853321e+00,\n",
       "        2.70973492e-01, -1.04061695e+00, -1.33929596e+00, -1.14450530e+00,\n",
       "       -1.35228200e+00,  3.35903711e-01, -6.25063541e-01, -2.61454310e-01,\n",
       "        8.81317557e-01, -1.23540761e+00])"
      ]
     },
     "execution_count": 8,
     "metadata": {},
     "output_type": "execute_result"
    }
   ],
   "source": [
    "# Normalize the target variable\n",
    "y = (y - np.mean(y)) / np.std(y)\n",
    "y"
   ]
  },
  {
   "cell_type": "code",
   "execution_count": 9,
   "id": "6f1530f5-e564-4eea-9aeb-b386fae5f224",
   "metadata": {},
   "outputs": [],
   "source": [
    "# Split the data\n",
    "X_train, X_test, y_train, y_test = train_test_split(X, y, test_size=0.2, random_state=42)\n",
    "\n",
    "# Scale the data\n",
    "scaler = StandardScaler()\n",
    "X_train = scaler.fit_transform(X_train)\n",
    "X_test = scaler.transform(X_test)"
   ]
  },
  {
   "cell_type": "code",
   "execution_count": 10,
   "id": "cd2e0b0b-c58e-4b21-b010-814be0a45b10",
   "metadata": {},
   "outputs": [
    {
     "data": {
      "text/plain": [
       "(353, 10)"
      ]
     },
     "execution_count": 10,
     "metadata": {},
     "output_type": "execute_result"
    }
   ],
   "source": [
    "X_train.shape"
   ]
  },
  {
   "cell_type": "markdown",
   "id": "89207d87-3fe6-4078-805b-88cb7dd6d735",
   "metadata": {},
   "source": [
    "### 2.Create the Neural Network with All Optimizations\n",
    "This network includes He initialization, Adam optimizer, Dropout, Batch Normalization, Early Stopping, and Learning Rate Scheduling"
   ]
  },
  {
   "cell_type": "code",
   "execution_count": 26,
   "id": "3d265852-e7b4-4316-a550-7dc2ba745b89",
   "metadata": {},
   "outputs": [],
   "source": [
    "def create_optimized_model(learning_rate=0.001, optimizer_type='adam'):\n",
    "    model = Sequential()\n",
    "\n",
    "    # Input layer with He initialization\n",
    "    model.add(Dense(128, input_dim=X_train.shape[1], kernel_initializer='he_normal', activation='relu'))\n",
    "    \n",
    "    # Hidden layer 1 with Batch Normalization and Dropout\n",
    "    model.add(Dense(64, kernel_initializer='he_normal', activation='relu'))\n",
    "    model.add(BatchNormalization())\n",
    "    model.add(Dropout(0.3))\n",
    "    \n",
    "    # Hidden layer 2 with Batch Normalization and Dropout\n",
    "    model.add(Dense(64, kernel_initializer='he_normal', activation='relu'))\n",
    "    model.add(BatchNormalization())\n",
    "    model.add(Dropout(0.3))\n",
    "\n",
    "    # Output \n",
    "    model.add(Dense(1, activation='linear'))\n",
    "\n",
    "    # Optimizers\n",
    "    if optimizer_type == 'adam':\n",
    "        optimizer = Adam(learning_rate=learning_rate)\n",
    "    elif optimizer_type == 'sgd':\n",
    "        optimizer = SGD(learning_rate=learning_rate, momentum=0.9)\n",
    "\n",
    "    # Compile model with MSE loss and MAE metrics\n",
    "    model.compile(optimizer=optimizer, loss='mse', metrics=['mae'])\n",
    "\n",
    "    return model\n"
   ]
  },
  {
   "cell_type": "markdown",
   "id": "ad600327-c271-43ee-a585-d15b2bfbe861",
   "metadata": {},
   "source": [
    "### 3.Callbacks: Early Stopping and Learning Rate Reduction\n",
    "We’ll use EarlyStopping to prevent overfitting and ReduceLROnPlateau to adjust the learning rate dynamically."
   ]
  },
  {
   "cell_type": "code",
   "execution_count": 27,
   "id": "de546189-e915-495c-9957-8bd752f2fbaa",
   "metadata": {},
   "outputs": [],
   "source": [
    "early_stopping = EarlyStopping(monitor='val_loss', patience=10, restore_best_weights=True)\n",
    "reduce_lr = ReduceLROnPlateau(monitor='val_loss', factor=0.5, patience=5, min_lr=1e-5)"
   ]
  },
  {
   "cell_type": "markdown",
   "id": "b2c68ab2-73cd-429f-843b-aeaa9f5e7779",
   "metadata": {},
   "source": [
    "### 4.Train the Model with Adam Optimizer"
   ]
  },
  {
   "cell_type": "code",
   "execution_count": 28,
   "id": "fc9504f8-716c-4a73-a650-25659430f16e",
   "metadata": {},
   "outputs": [
    {
     "name": "stderr",
     "output_type": "stream",
     "text": [
      "C:\\Users\\ASIM\\anaconda3\\Lib\\site-packages\\keras\\src\\layers\\core\\dense.py:87: UserWarning: Do not pass an `input_shape`/`input_dim` argument to a layer. When using Sequential models, prefer using an `Input(shape)` object as the first layer in the model instead.\n",
      "  super().__init__(activity_regularizer=activity_regularizer, **kwargs)\n"
     ]
    },
    {
     "name": "stdout",
     "output_type": "stream",
     "text": [
      "Epoch 1/100\n",
      "12/12 - 5s - 429ms/step - loss: 3.0510 - mae: 1.3848 - val_loss: 1.3434 - val_mae: 0.9483 - learning_rate: 0.0010\n",
      "Epoch 2/100\n",
      "12/12 - 0s - 17ms/step - loss: 1.8236 - mae: 1.0704 - val_loss: 0.9175 - val_mae: 0.7824 - learning_rate: 0.0010\n",
      "Epoch 3/100\n",
      "12/12 - 0s - 21ms/step - loss: 1.8027 - mae: 1.0319 - val_loss: 0.7012 - val_mae: 0.6859 - learning_rate: 0.0010\n",
      "Epoch 4/100\n",
      "12/12 - 0s - 9ms/step - loss: 1.5206 - mae: 0.9903 - val_loss: 0.5922 - val_mae: 0.6299 - learning_rate: 0.0010\n",
      "Epoch 5/100\n",
      "12/12 - 0s - 7ms/step - loss: 1.4317 - mae: 0.9423 - val_loss: 0.5532 - val_mae: 0.6024 - learning_rate: 0.0010\n",
      "Epoch 6/100\n",
      "12/12 - 0s - 8ms/step - loss: 1.2622 - mae: 0.8748 - val_loss: 0.5332 - val_mae: 0.5892 - learning_rate: 0.0010\n",
      "Epoch 7/100\n",
      "12/12 - 0s - 7ms/step - loss: 1.2605 - mae: 0.8958 - val_loss: 0.5237 - val_mae: 0.5900 - learning_rate: 0.0010\n",
      "Epoch 8/100\n",
      "12/12 - 0s - 8ms/step - loss: 0.9786 - mae: 0.8027 - val_loss: 0.4984 - val_mae: 0.5707 - learning_rate: 0.0010\n",
      "Epoch 9/100\n",
      "12/12 - 0s - 7ms/step - loss: 1.1451 - mae: 0.8456 - val_loss: 0.5048 - val_mae: 0.5700 - learning_rate: 0.0010\n",
      "Epoch 10/100\n",
      "12/12 - 0s - 7ms/step - loss: 1.0471 - mae: 0.8268 - val_loss: 0.5148 - val_mae: 0.5795 - learning_rate: 0.0010\n",
      "Epoch 11/100\n",
      "12/12 - 0s - 7ms/step - loss: 1.0368 - mae: 0.8297 - val_loss: 0.4997 - val_mae: 0.5697 - learning_rate: 0.0010\n",
      "Epoch 12/100\n",
      "12/12 - 0s - 7ms/step - loss: 1.0357 - mae: 0.8066 - val_loss: 0.4810 - val_mae: 0.5544 - learning_rate: 0.0010\n",
      "Epoch 13/100\n",
      "12/12 - 0s - 7ms/step - loss: 0.9891 - mae: 0.7751 - val_loss: 0.5009 - val_mae: 0.5589 - learning_rate: 0.0010\n",
      "Epoch 14/100\n",
      "12/12 - 0s - 7ms/step - loss: 0.8560 - mae: 0.7414 - val_loss: 0.5082 - val_mae: 0.5598 - learning_rate: 0.0010\n",
      "Epoch 15/100\n",
      "12/12 - 0s - 7ms/step - loss: 0.8732 - mae: 0.7489 - val_loss: 0.4964 - val_mae: 0.5572 - learning_rate: 0.0010\n",
      "Epoch 16/100\n",
      "12/12 - 0s - 7ms/step - loss: 0.8181 - mae: 0.7241 - val_loss: 0.4777 - val_mae: 0.5409 - learning_rate: 0.0010\n",
      "Epoch 17/100\n",
      "12/12 - 0s - 8ms/step - loss: 0.7679 - mae: 0.7090 - val_loss: 0.4743 - val_mae: 0.5425 - learning_rate: 0.0010\n",
      "Epoch 18/100\n",
      "12/12 - 0s - 7ms/step - loss: 0.8113 - mae: 0.7143 - val_loss: 0.4710 - val_mae: 0.5411 - learning_rate: 0.0010\n",
      "Epoch 19/100\n",
      "12/12 - 0s - 7ms/step - loss: 0.7199 - mae: 0.6748 - val_loss: 0.4741 - val_mae: 0.5448 - learning_rate: 0.0010\n",
      "Epoch 20/100\n",
      "12/12 - 0s - 7ms/step - loss: 0.7194 - mae: 0.6811 - val_loss: 0.4789 - val_mae: 0.5476 - learning_rate: 0.0010\n",
      "Epoch 21/100\n",
      "12/12 - 0s - 8ms/step - loss: 0.7865 - mae: 0.7163 - val_loss: 0.4622 - val_mae: 0.5340 - learning_rate: 0.0010\n",
      "Epoch 22/100\n",
      "12/12 - 0s - 7ms/step - loss: 0.7046 - mae: 0.6848 - val_loss: 0.4602 - val_mae: 0.5302 - learning_rate: 0.0010\n",
      "Epoch 23/100\n",
      "12/12 - 0s - 8ms/step - loss: 0.7104 - mae: 0.6664 - val_loss: 0.4605 - val_mae: 0.5256 - learning_rate: 0.0010\n",
      "Epoch 24/100\n",
      "12/12 - 0s - 8ms/step - loss: 0.7486 - mae: 0.6931 - val_loss: 0.4448 - val_mae: 0.5184 - learning_rate: 0.0010\n",
      "Epoch 25/100\n",
      "12/12 - 0s - 7ms/step - loss: 0.6547 - mae: 0.6519 - val_loss: 0.4451 - val_mae: 0.5175 - learning_rate: 0.0010\n",
      "Epoch 26/100\n",
      "12/12 - 0s - 10ms/step - loss: 0.6688 - mae: 0.6666 - val_loss: 0.4479 - val_mae: 0.5134 - learning_rate: 0.0010\n",
      "Epoch 27/100\n",
      "12/12 - 0s - 9ms/step - loss: 0.6169 - mae: 0.6354 - val_loss: 0.4588 - val_mae: 0.5232 - learning_rate: 0.0010\n",
      "Epoch 28/100\n",
      "12/12 - 0s - 7ms/step - loss: 0.6633 - mae: 0.6661 - val_loss: 0.4595 - val_mae: 0.5231 - learning_rate: 0.0010\n",
      "Epoch 29/100\n",
      "12/12 - 0s - 7ms/step - loss: 0.6351 - mae: 0.6423 - val_loss: 0.4454 - val_mae: 0.5166 - learning_rate: 0.0010\n",
      "Epoch 30/100\n",
      "12/12 - 0s - 8ms/step - loss: 0.6072 - mae: 0.6352 - val_loss: 0.4444 - val_mae: 0.5141 - learning_rate: 5.0000e-04\n",
      "Epoch 31/100\n",
      "12/12 - 0s - 8ms/step - loss: 0.6223 - mae: 0.6351 - val_loss: 0.4448 - val_mae: 0.5144 - learning_rate: 5.0000e-04\n",
      "Epoch 32/100\n",
      "12/12 - 0s - 7ms/step - loss: 0.5569 - mae: 0.5920 - val_loss: 0.4466 - val_mae: 0.5138 - learning_rate: 5.0000e-04\n",
      "Epoch 33/100\n",
      "12/12 - 0s - 8ms/step - loss: 0.5994 - mae: 0.6199 - val_loss: 0.4430 - val_mae: 0.5099 - learning_rate: 5.0000e-04\n",
      "Epoch 34/100\n",
      "12/12 - 0s - 8ms/step - loss: 0.6374 - mae: 0.6428 - val_loss: 0.4422 - val_mae: 0.5063 - learning_rate: 5.0000e-04\n",
      "Epoch 35/100\n",
      "12/12 - 0s - 7ms/step - loss: 0.6220 - mae: 0.6213 - val_loss: 0.4421 - val_mae: 0.5069 - learning_rate: 5.0000e-04\n",
      "Epoch 36/100\n",
      "12/12 - 0s - 7ms/step - loss: 0.5799 - mae: 0.5932 - val_loss: 0.4449 - val_mae: 0.5098 - learning_rate: 5.0000e-04\n",
      "Epoch 37/100\n",
      "12/12 - 0s - 7ms/step - loss: 0.5798 - mae: 0.5993 - val_loss: 0.4448 - val_mae: 0.5106 - learning_rate: 5.0000e-04\n",
      "Epoch 38/100\n",
      "12/12 - 0s - 8ms/step - loss: 0.5479 - mae: 0.5811 - val_loss: 0.4395 - val_mae: 0.5079 - learning_rate: 5.0000e-04\n",
      "Epoch 39/100\n",
      "12/12 - 0s - 7ms/step - loss: 0.5616 - mae: 0.5958 - val_loss: 0.4410 - val_mae: 0.5062 - learning_rate: 5.0000e-04\n",
      "Epoch 40/100\n",
      "12/12 - 0s - 8ms/step - loss: 0.5325 - mae: 0.5955 - val_loss: 0.4410 - val_mae: 0.5039 - learning_rate: 5.0000e-04\n",
      "Epoch 41/100\n",
      "12/12 - 0s - 7ms/step - loss: 0.5240 - mae: 0.5817 - val_loss: 0.4411 - val_mae: 0.5051 - learning_rate: 5.0000e-04\n",
      "Epoch 42/100\n",
      "12/12 - 0s - 7ms/step - loss: 0.5738 - mae: 0.6041 - val_loss: 0.4428 - val_mae: 0.5071 - learning_rate: 5.0000e-04\n",
      "Epoch 43/100\n",
      "12/12 - 0s - 11ms/step - loss: 0.6563 - mae: 0.6637 - val_loss: 0.4414 - val_mae: 0.5078 - learning_rate: 5.0000e-04\n",
      "Epoch 44/100\n",
      "12/12 - 0s - 7ms/step - loss: 0.4743 - mae: 0.5512 - val_loss: 0.4427 - val_mae: 0.5075 - learning_rate: 2.5000e-04\n",
      "Epoch 45/100\n",
      "12/12 - 0s - 7ms/step - loss: 0.5873 - mae: 0.6115 - val_loss: 0.4417 - val_mae: 0.5059 - learning_rate: 2.5000e-04\n",
      "Epoch 46/100\n",
      "12/12 - 0s - 8ms/step - loss: 0.5491 - mae: 0.5823 - val_loss: 0.4389 - val_mae: 0.5047 - learning_rate: 2.5000e-04\n",
      "Epoch 47/100\n",
      "12/12 - 0s - 7ms/step - loss: 0.5407 - mae: 0.5884 - val_loss: 0.4394 - val_mae: 0.5056 - learning_rate: 2.5000e-04\n",
      "Epoch 48/100\n",
      "12/12 - 0s - 12ms/step - loss: 0.5361 - mae: 0.5918 - val_loss: 0.4383 - val_mae: 0.5077 - learning_rate: 2.5000e-04\n",
      "Epoch 49/100\n",
      "12/12 - 0s - 9ms/step - loss: 0.5432 - mae: 0.5971 - val_loss: 0.4377 - val_mae: 0.5088 - learning_rate: 2.5000e-04\n",
      "Epoch 50/100\n",
      "12/12 - 0s - 7ms/step - loss: 0.5408 - mae: 0.5959 - val_loss: 0.4393 - val_mae: 0.5094 - learning_rate: 2.5000e-04\n",
      "Epoch 51/100\n",
      "12/12 - 0s - 8ms/step - loss: 0.5551 - mae: 0.5977 - val_loss: 0.4381 - val_mae: 0.5081 - learning_rate: 2.5000e-04\n",
      "Epoch 52/100\n",
      "12/12 - 0s - 8ms/step - loss: 0.5676 - mae: 0.6002 - val_loss: 0.4396 - val_mae: 0.5079 - learning_rate: 2.5000e-04\n",
      "Epoch 53/100\n",
      "12/12 - 0s - 8ms/step - loss: 0.5679 - mae: 0.6040 - val_loss: 0.4408 - val_mae: 0.5087 - learning_rate: 2.5000e-04\n",
      "Epoch 54/100\n",
      "12/12 - 0s - 9ms/step - loss: 0.5634 - mae: 0.5996 - val_loss: 0.4410 - val_mae: 0.5080 - learning_rate: 2.5000e-04\n",
      "Epoch 55/100\n",
      "12/12 - 0s - 7ms/step - loss: 0.5723 - mae: 0.6045 - val_loss: 0.4402 - val_mae: 0.5069 - learning_rate: 1.2500e-04\n",
      "Epoch 56/100\n",
      "12/12 - 0s - 7ms/step - loss: 0.5174 - mae: 0.5738 - val_loss: 0.4381 - val_mae: 0.5060 - learning_rate: 1.2500e-04\n",
      "Epoch 57/100\n",
      "12/12 - 0s - 7ms/step - loss: 0.5429 - mae: 0.6032 - val_loss: 0.4359 - val_mae: 0.5059 - learning_rate: 1.2500e-04\n",
      "Epoch 58/100\n",
      "12/12 - 0s - 7ms/step - loss: 0.5180 - mae: 0.5752 - val_loss: 0.4350 - val_mae: 0.5070 - learning_rate: 1.2500e-04\n",
      "Epoch 59/100\n",
      "12/12 - 0s - 9ms/step - loss: 0.5279 - mae: 0.5816 - val_loss: 0.4338 - val_mae: 0.5069 - learning_rate: 1.2500e-04\n",
      "Epoch 60/100\n",
      "12/12 - 0s - 9ms/step - loss: 0.5128 - mae: 0.5734 - val_loss: 0.4342 - val_mae: 0.5076 - learning_rate: 1.2500e-04\n",
      "Epoch 61/100\n",
      "12/12 - 0s - 13ms/step - loss: 0.5639 - mae: 0.5974 - val_loss: 0.4349 - val_mae: 0.5077 - learning_rate: 1.2500e-04\n",
      "Epoch 62/100\n",
      "12/12 - 0s - 7ms/step - loss: 0.5023 - mae: 0.5713 - val_loss: 0.4358 - val_mae: 0.5085 - learning_rate: 1.2500e-04\n",
      "Epoch 63/100\n",
      "12/12 - 0s - 8ms/step - loss: 0.4964 - mae: 0.5667 - val_loss: 0.4389 - val_mae: 0.5112 - learning_rate: 1.2500e-04\n",
      "Epoch 64/100\n",
      "12/12 - 0s - 7ms/step - loss: 0.4905 - mae: 0.5644 - val_loss: 0.4375 - val_mae: 0.5091 - learning_rate: 1.2500e-04\n",
      "Epoch 65/100\n",
      "12/12 - 0s - 15ms/step - loss: 0.4553 - mae: 0.5351 - val_loss: 0.4381 - val_mae: 0.5098 - learning_rate: 6.2500e-05\n",
      "Epoch 66/100\n",
      "12/12 - 0s - 7ms/step - loss: 0.4621 - mae: 0.5425 - val_loss: 0.4380 - val_mae: 0.5091 - learning_rate: 6.2500e-05\n",
      "Epoch 67/100\n",
      "12/12 - 0s - 8ms/step - loss: 0.5361 - mae: 0.5900 - val_loss: 0.4378 - val_mae: 0.5081 - learning_rate: 6.2500e-05\n",
      "Epoch 68/100\n",
      "12/12 - 0s - 8ms/step - loss: 0.5365 - mae: 0.5870 - val_loss: 0.4375 - val_mae: 0.5069 - learning_rate: 6.2500e-05\n",
      "Epoch 69/100\n",
      "12/12 - 0s - 8ms/step - loss: 0.4925 - mae: 0.5735 - val_loss: 0.4379 - val_mae: 0.5074 - learning_rate: 6.2500e-05\n"
     ]
    }
   ],
   "source": [
    "# Create the model\n",
    "model_adam = create_optimized_model(learning_rate=0.001, optimizer_type='adam')\n",
    "\n",
    "# Train the model\n",
    "history_adam = model_adam.fit(X_train, y_train, \n",
    "                              validation_data=(X_test, y_test),\n",
    "                              epochs=100, \n",
    "                              batch_size=32, \n",
    "                              callbacks=[early_stopping, reduce_lr], \n",
    "                              verbose=2)\n"
   ]
  },
  {
   "cell_type": "markdown",
   "id": "e3374428-4e74-4c2b-bb7a-3a7224544875",
   "metadata": {},
   "source": [
    "#### 5.Train model with SGD"
   ]
  },
  {
   "cell_type": "code",
   "execution_count": 29,
   "id": "3354e3c2-1d92-41f9-939e-8f8f85fbb7c7",
   "metadata": {},
   "outputs": [
    {
     "name": "stdout",
     "output_type": "stream",
     "text": [
      "Epoch 1/100\n",
      "12/12 - 3s - 260ms/step - loss: 2.1729 - mae: 1.1656 - val_loss: 1.7479 - val_mae: 1.1185 - learning_rate: 0.0100\n",
      "Epoch 2/100\n",
      "12/12 - 0s - 35ms/step - loss: 1.3100 - mae: 0.9409 - val_loss: 1.5212 - val_mae: 1.0236 - learning_rate: 0.0100\n",
      "Epoch 3/100\n",
      "12/12 - 0s - 8ms/step - loss: 1.1815 - mae: 0.8682 - val_loss: 1.0521 - val_mae: 0.7905 - learning_rate: 0.0100\n",
      "Epoch 4/100\n",
      "12/12 - 0s - 8ms/step - loss: 0.8078 - mae: 0.7294 - val_loss: 0.9202 - val_mae: 0.7848 - learning_rate: 0.0100\n",
      "Epoch 5/100\n",
      "12/12 - 0s - 7ms/step - loss: 0.7495 - mae: 0.6974 - val_loss: 0.9817 - val_mae: 0.7984 - learning_rate: 0.0100\n",
      "Epoch 6/100\n",
      "12/12 - 0s - 8ms/step - loss: 0.6522 - mae: 0.6651 - val_loss: 0.5266 - val_mae: 0.5882 - learning_rate: 0.0100\n",
      "Epoch 7/100\n",
      "12/12 - 0s - 7ms/step - loss: 0.6890 - mae: 0.6922 - val_loss: 0.6706 - val_mae: 0.6719 - learning_rate: 0.0100\n",
      "Epoch 8/100\n",
      "12/12 - 0s - 7ms/step - loss: 0.6142 - mae: 0.6239 - val_loss: 0.6571 - val_mae: 0.6348 - learning_rate: 0.0100\n",
      "Epoch 9/100\n",
      "12/12 - 0s - 7ms/step - loss: 0.6231 - mae: 0.6441 - val_loss: 0.6421 - val_mae: 0.6183 - learning_rate: 0.0100\n",
      "Epoch 10/100\n",
      "12/12 - 0s - 7ms/step - loss: 0.5922 - mae: 0.6295 - val_loss: 0.5376 - val_mae: 0.5743 - learning_rate: 0.0100\n"
     ]
    }
   ],
   "source": [
    "# Create the model using SGD optimizer\n",
    "model_sgd = create_optimized_model(learning_rate=0.01, optimizer_type='sgd')\n",
    "\n",
    "# Train the model\n",
    "history_sgd = model_sgd.fit(X_train, y_train, \n",
    "                            validation_data=(X_test, y_test), \n",
    "                            epochs=100, \n",
    "                            batch_size=32, \n",
    "                            callbacks=[early_stopping, reduce_lr], \n",
    "                            verbose=2)\n"
   ]
  },
  {
   "cell_type": "markdown",
   "id": "d0ac9d5f-b312-47c7-b62b-806808c2b445",
   "metadata": {},
   "source": [
    "#### 6.Evaluation\n",
    "Evaluate the Model on the Test Set"
   ]
  },
  {
   "cell_type": "code",
   "execution_count": 31,
   "id": "ad41afb8-550b-4ab3-9a0c-7925f7932128",
   "metadata": {},
   "outputs": [
    {
     "name": "stdout",
     "output_type": "stream",
     "text": [
      "Adam Optimizer - Test Loss (MSE): 0.4338361620903015, Test MAE: 0.5068910121917725\n",
      "SGD Optimizer - Test Loss (MSE): 1.7479318380355835, Test MAE: 1.1185039281845093\n"
     ]
    }
   ],
   "source": [
    "# Evaluate Adam model\n",
    "test_loss_adam, test_mae_adam = model_adam.evaluate(X_test, y_test, verbose=0)\n",
    "print(f\"Adam Optimizer - Test Loss (MSE): {test_loss_adam}, Test MAE: {test_mae_adam}\")\n",
    "\n",
    "# Evaluate SGD model\n",
    "test_loss_sgd, test_mae_sgd = model_sgd.evaluate(X_test, y_test, verbose=0)\n",
    "print(f\"SGD Optimizer - Test Loss (MSE): {test_loss_sgd}, Test MAE: {test_mae_sgd}\")\n"
   ]
  },
  {
   "cell_type": "code",
   "execution_count": null,
   "id": "21f6cdd7-05a3-4772-a957-c21273ca1ec2",
   "metadata": {},
   "outputs": [],
   "source": []
  },
  {
   "cell_type": "code",
   "execution_count": 33,
   "id": "0e953e34-c1ce-4f2d-b37e-411744128d96",
   "metadata": {},
   "outputs": [
    {
     "name": "stdout",
     "output_type": "stream",
     "text": [
      "\u001b[1m3/3\u001b[0m \u001b[32m━━━━━━━━━━━━━━━━━━━━\u001b[0m\u001b[37m\u001b[0m \u001b[1m0s\u001b[0m 4ms/step \n",
      "Adam Model : [[-0.2541642 ]\n",
      " [-0.04456925]\n",
      " [ 0.36779633]\n",
      " [ 2.2172072 ]\n",
      " [-0.49585792]\n",
      " [-0.68584126]\n",
      " [ 1.4646287 ]\n",
      " [ 0.57756597]\n",
      " [-0.71563965]\n",
      " [-0.62323415]\n",
      " [-0.6792414 ]\n",
      " [ 0.6263123 ]\n",
      " [-0.79275686]\n",
      " [ 0.6241912 ]\n",
      " [-0.8538894 ]\n",
      " [-0.6309136 ]\n",
      " [ 1.1662077 ]\n",
      " [ 1.609291  ]\n",
      " [ 0.48346558]\n",
      " [ 0.99181217]\n",
      " [ 0.33969206]\n",
      " [-0.72513384]\n",
      " [-1.4032332 ]\n",
      " [ 0.6640119 ]\n",
      " [-0.27146956]\n",
      " [ 0.11316433]\n",
      " [ 0.840177  ]\n",
      " [ 0.44822946]\n",
      " [-1.2417104 ]\n",
      " [-0.59038323]\n",
      " [ 0.02700532]\n",
      " [-0.13823465]\n",
      " [-0.7507097 ]\n",
      " [ 0.12268039]\n",
      " [-0.04817992]\n",
      " [ 0.5820796 ]\n",
      " [-0.6747595 ]\n",
      " [-0.29147097]\n",
      " [ 0.24792948]\n",
      " [-1.0301702 ]\n",
      " [-1.1106253 ]\n",
      " [-0.46940497]\n",
      " [ 0.12101519]\n",
      " [ 0.32753745]\n",
      " [ 0.39204168]\n",
      " [-0.8858985 ]\n",
      " [-0.5477405 ]\n",
      " [-0.4376203 ]\n",
      " [-1.1318927 ]\n",
      " [ 0.2692018 ]\n",
      " [-0.48152503]\n",
      " [-0.26974544]\n",
      " [-0.31286415]\n",
      " [-0.70814604]\n",
      " [ 0.3663474 ]\n",
      " [-0.23618054]\n",
      " [-0.5108552 ]\n",
      " [ 0.70832384]\n",
      " [-0.34251755]\n",
      " [-1.115787  ]\n",
      " [ 0.41163155]\n",
      " [ 0.5391483 ]\n",
      " [-0.25705642]\n",
      " [-0.7689752 ]\n",
      " [-0.11594408]\n",
      " [ 0.58609164]\n",
      " [ 0.36000833]\n",
      " [ 0.0209163 ]\n",
      " [ 0.08826821]\n",
      " [-0.69114405]\n",
      " [-0.05612097]\n",
      " [ 0.74716336]\n",
      " [ 1.0596813 ]\n",
      " [-0.88782465]\n",
      " [-0.7283389 ]\n",
      " [ 0.5727018 ]\n",
      " [ 0.62550515]\n",
      " [ 0.49755424]\n",
      " [ 0.05554972]\n",
      " [ 0.6852184 ]\n",
      " [-0.04494338]\n",
      " [ 0.11755082]\n",
      " [-1.1214371 ]\n",
      " [-1.2063764 ]\n",
      " [-0.57202566]\n",
      " [-1.2546877 ]\n",
      " [-0.8790926 ]\n",
      " [-1.1809392 ]\n",
      " [ 0.29765663]]\n",
      "\u001b[1m3/3\u001b[0m \u001b[32m━━━━━━━━━━━━━━━━━━━━\u001b[0m\u001b[37m\u001b[0m \u001b[1m1s\u001b[0m 222ms/step\n",
      "SGD Model - MSE on Test Set: [[ 1.4936793 ]\n",
      " [ 0.45118847]\n",
      " [ 1.1971045 ]\n",
      " [ 3.9775217 ]\n",
      " [ 0.33524075]\n",
      " [ 0.6849603 ]\n",
      " [ 2.734156  ]\n",
      " [ 2.6420913 ]\n",
      " [-0.26492512]\n",
      " [ 0.0051704 ]\n",
      " [ 0.65769726]\n",
      " [ 0.61934566]\n",
      " [ 0.683721  ]\n",
      " [ 1.5457206 ]\n",
      " [-0.03716656]\n",
      " [ 0.72109324]\n",
      " [ 1.8468531 ]\n",
      " [ 2.6361458 ]\n",
      " [ 1.7347052 ]\n",
      " [ 1.9289391 ]\n",
      " [ 0.56012887]\n",
      " [ 0.9707873 ]\n",
      " [ 0.5350335 ]\n",
      " [ 1.2704905 ]\n",
      " [ 0.5227705 ]\n",
      " [-0.0361544 ]\n",
      " [ 0.9745685 ]\n",
      " [ 0.57005626]\n",
      " [ 0.6056227 ]\n",
      " [ 0.10072365]\n",
      " [-0.17110908]\n",
      " [ 0.06466883]\n",
      " [ 0.2203514 ]\n",
      " [ 0.4654974 ]\n",
      " [ 0.9585088 ]\n",
      " [ 2.4176319 ]\n",
      " [-0.02534924]\n",
      " [ 0.14135095]\n",
      " [ 0.51150423]\n",
      " [ 1.2204051 ]\n",
      " [ 0.9499266 ]\n",
      " [ 0.35070994]\n",
      " [ 1.381417  ]\n",
      " [ 0.41552666]\n",
      " [ 0.4674906 ]\n",
      " [ 1.3475919 ]\n",
      " [ 0.13657743]\n",
      " [ 0.9993834 ]\n",
      " [ 0.88642913]\n",
      " [ 0.14034861]\n",
      " [ 0.94231534]\n",
      " [ 0.52785087]\n",
      " [-0.53798896]\n",
      " [ 0.63037986]\n",
      " [ 2.3266685 ]\n",
      " [ 0.7960133 ]\n",
      " [ 0.45168674]\n",
      " [ 0.9626113 ]\n",
      " [ 0.57575536]\n",
      " [ 0.4156111 ]\n",
      " [ 1.7056183 ]\n",
      " [ 0.6300824 ]\n",
      " [ 0.60458547]\n",
      " [ 0.4538134 ]\n",
      " [ 0.00837668]\n",
      " [ 1.8407717 ]\n",
      " [ 1.7717829 ]\n",
      " [ 1.114151  ]\n",
      " [ 0.3429491 ]\n",
      " [ 0.5686978 ]\n",
      " [ 0.8305249 ]\n",
      " [ 1.9380907 ]\n",
      " [ 2.4837759 ]\n",
      " [ 0.56636864]\n",
      " [ 1.1956091 ]\n",
      " [ 1.2485372 ]\n",
      " [ 2.567645  ]\n",
      " [ 0.98734605]\n",
      " [ 0.88265854]\n",
      " [ 1.5338701 ]\n",
      " [ 0.4864322 ]\n",
      " [ 0.7093534 ]\n",
      " [ 0.33725908]\n",
      " [ 1.2077371 ]\n",
      " [ 0.32561478]\n",
      " [ 0.59864587]\n",
      " [ 0.9168879 ]\n",
      " [ 0.6485771 ]\n",
      " [ 0.3778627 ]]\n"
     ]
    }
   ],
   "source": [
    "# Predict using Adam model\n",
    "y_pred_adam = model_adam.predict(X_test)\n",
    "print(f\"Adam Model : {y_pred_adam}\")\n",
    "\n",
    "# Predict using SGD model\n",
    "y_pred_sgd = model_sgd.predict(X_test)\n",
    "print(f\"SGD Model - MSE on Test Set: {y_pred_sgd}\")\n"
   ]
  },
  {
   "cell_type": "markdown",
   "id": "1c4213b1-c0d4-4d25-932b-c3a7d8c85d91",
   "metadata": {},
   "source": [
    "### 7. Plotting Loss and Learning Rate\n",
    "Plot Loss Curves"
   ]
  },
  {
   "cell_type": "code",
   "execution_count": 34,
   "id": "0720cfbf-f331-4e4b-83e9-2be9f7866e80",
   "metadata": {},
   "outputs": [
    {
     "data": {
      "image/png": "[encoded data removed]",
      "text/plain": [
       "<Figure size 640x480 with 1 Axes>"
      ]
     },
     "metadata": {},
     "output_type": "display_data"
    }
   ],
   "source": [
    "# Plot loss for Adam\n",
    "plt.plot(history_adam.history['loss'], label='Train Loss - Adam')\n",
    "plt.plot(history_adam.history['val_loss'], label='Val Loss - Adam')\n",
    "plt.plot(history_sgd.history['loss'], label='Train Loss - SGD')\n",
    "plt.plot(history_sgd.history['val_loss'], label='Val Loss - SGD')\n",
    "plt.title('Loss Comparison Between Adam and SGD')\n",
    "plt.xlabel('Epochs')\n",
    "plt.ylabel('Loss')\n",
    "plt.legend()\n",
    "plt.show()"
   ]
  },
  {
   "cell_type": "code",
   "execution_count": null,
   "id": "62cd86e5-e0b5-4fbd-9ee3-6c0d3182e2c7",
   "metadata": {},
   "outputs": [],
   "source": []
  },
  {
   "cell_type": "markdown",
   "id": "778c6f04-58a6-41ab-86ea-3e186b58e82e",
   "metadata": {},
   "source": [
    "### Improvement with Regularization"
   ]
  },
  {
   "cell_type": "markdown",
   "id": "fb03e310-2c3f-46c7-adeb-2794fc29fbb8",
   "metadata": {},
   "source": [
    "The standard way to avoid overfitting is called **L2 regularization**"
   ]
  },
  {
   "cell_type": "markdown",
   "id": "eac10eb7-936f-484a-aef0-9aae39fcebd1",
   "metadata": {},
   "source": [
    "The equation for the cost function regularized linear regression is:\n",
    "$$J(\\mathbf{w},b) = \\frac{1}{2m} \\sum\\limits_{i = 0}^{m-1} (f_{\\mathbf{w},b}(\\mathbf{x}^{(i)}) - y^{(i)})^2  + \\frac{\\lambda}{2m}  \\sum_{j=0}^{n-1} w_j^2 \\tag{1}$$ \n",
    "where:\n",
    "$$ f_{\\mathbf{w},b}(\\mathbf{x}^{(i)}) = \\mathbf{w} \\cdot \\mathbf{x}^{(i)} + b  \\tag{2} $$ \n",
    "\n",
    "\n",
    "Compare this to the cost function without regularization (which you implemented in  a previous lab), which is of the form:\n",
    "\n",
    "$$J(\\mathbf{w},b) = \\frac{1}{2m} \\sum\\limits_{i = 0}^{m-1} (f_{\\mathbf{w},b}(\\mathbf{x}^{(i)}) - y^{(i)})^2 $$ \n",
    "\n",
    "The difference is the regularization term,  <span style=\"color:blue\">\n",
    "    $\\frac{\\lambda}{2m}  \\sum_{j=0}^{n-1} w_j^2$ </span> \n",
    "    \n",
    "Including this term encourages gradient descent to minimize the size of the parameters. Note, in this example, the parameter $b$ is not regularized. This is standard practice.\n",
    "\n",
    "Below is an implementation of equations (1) and (2). Note that this uses a *standard pattern for this course*,   a `for loop` over all `m` examples."
   ]
  },
  {
   "cell_type": "code",
   "execution_count": 37,
   "id": "40201939-cad5-43d5-a327-83ec679eec68",
   "metadata": {},
   "outputs": [],
   "source": [
    "from tensorflow.keras import regularizers\n",
    "\n",
    "def create_l2_regularized_model(learning_rate=0.001, l2_lambda=0.01):\n",
    "    model = Sequential()\n",
    "    model.add(Dense(128, input_dim=X_train.shape[1], kernel_initializer='he_normal',\n",
    "                    activation='relu', kernel_regularizer=regularizers.l2(l2_lambda)))\n",
    "    model.add(Dense(64, kernel_initializer='he_normal', activation='relu', kernel_regularizer=regularizers.l2(l2_lambda)))\n",
    "    model.add(BatchNormalization())\n",
    "    model.add(Dropout(0.3))\n",
    "    model.add(Dense(64, kernel_initializer='he_normal', activation='relu', kernel_regularizer=regularizers.l2(l2_lambda)))\n",
    "    model.add(BatchNormalization())\n",
    "    model.add(Dropout(0.3))\n",
    "    model.add(Dense(1, activation='linear'))\n",
    "\n",
    "    optimizer = tf.keras.optimizers.Adam(learning_rate=learning_rate)\n",
    "\n",
    "    model.compile(optimizer=optimizer, loss='mse', metrics=['mae'])\n",
    "    return model\n"
   ]
  },
  {
   "cell_type": "code",
   "execution_count": 38,
   "id": "90961d3d-1d2d-4448-a513-bb98b1b49a3c",
   "metadata": {},
   "outputs": [
    {
     "name": "stdout",
     "output_type": "stream",
     "text": [
      "Epoch 1/100\n",
      "12/12 - 5s - 447ms/step - loss: 8.5315 - mae: 1.4592 - val_loss: 6.2496 - val_mae: 0.8812 - learning_rate: 0.0010\n",
      "Epoch 2/100\n",
      "12/12 - 0s - 7ms/step - loss: 7.2874 - mae: 1.1782 - val_loss: 6.0569 - val_mae: 0.8103 - learning_rate: 0.0010\n",
      "Epoch 3/100\n",
      "12/12 - 0s - 7ms/step - loss: 6.8727 - mae: 1.0922 - val_loss: 6.0097 - val_mae: 0.8151 - learning_rate: 0.0010\n",
      "Epoch 4/100\n",
      "12/12 - 0s - 9ms/step - loss: 6.6815 - mae: 1.0099 - val_loss: 5.8937 - val_mae: 0.8019 - learning_rate: 0.0010\n",
      "Epoch 5/100\n",
      "12/12 - 0s - 6ms/step - loss: 6.4045 - mae: 0.9492 - val_loss: 5.7629 - val_mae: 0.7592 - learning_rate: 0.0010\n",
      "Epoch 6/100\n",
      "12/12 - 0s - 6ms/step - loss: 6.3740 - mae: 0.9486 - val_loss: 5.6581 - val_mae: 0.7120 - learning_rate: 0.0010\n",
      "Epoch 7/100\n",
      "12/12 - 0s - 6ms/step - loss: 6.1931 - mae: 0.8794 - val_loss: 5.5734 - val_mae: 0.6869 - learning_rate: 0.0010\n",
      "Epoch 8/100\n",
      "12/12 - 0s - 6ms/step - loss: 6.2283 - mae: 0.9358 - val_loss: 5.4882 - val_mae: 0.6396 - learning_rate: 0.0010\n",
      "Epoch 9/100\n",
      "12/12 - 0s - 7ms/step - loss: 6.2233 - mae: 0.9312 - val_loss: 5.4566 - val_mae: 0.6351 - learning_rate: 0.0010\n",
      "Epoch 10/100\n",
      "12/12 - 0s - 6ms/step - loss: 6.1071 - mae: 0.9183 - val_loss: 5.4118 - val_mae: 0.6334 - learning_rate: 0.0010\n"
     ]
    }
   ],
   "source": [
    "# Train the L2 Regularization model\n",
    "model_l2 = create_l2_regularized_model(learning_rate=0.001, l2_lambda=0.01)\n",
    "history_l2 = model_l2.fit(X_train, y_train, \n",
    "                          validation_data=(X_test, y_test),\n",
    "                          epochs=100, \n",
    "                          batch_size=32, \n",
    "                          callbacks=[early_stopping, reduce_lr], \n",
    "                          verbose=2)\n"
   ]
  },
  {
   "cell_type": "code",
   "execution_count": 39,
   "id": "5b9d626f-19ef-4159-af57-95ea78237298",
   "metadata": {},
   "outputs": [
    {
     "name": "stdout",
     "output_type": "stream",
     "text": [
      "L2 Regularization - Test Loss (MSE): 6.249574661254883, Test MAE: 0.8811812400817871\n"
     ]
    }
   ],
   "source": [
    "# Evaluate L2 Regularization model\n",
    "test_loss_l2, test_mae_l2 = model_l2.evaluate(X_test, y_test, verbose=0)\n",
    "print(f\"L2 Regularization - Test Loss (MSE): {test_loss_l2}, Test MAE: {test_mae_l2}\")"
   ]
  },
  {
   "cell_type": "code",
   "execution_count": 40,
   "id": "b14566d4-649b-44bb-93d2-88515161c4e6",
   "metadata": {},
   "outputs": [
    {
     "data": {
      "image/png": "[encoded data removed]",
      "text/plain": [
       "<Figure size 640x480 with 1 Axes>"
      ]
     },
     "metadata": {},
     "output_type": "display_data"
    }
   ],
   "source": [
    "plt.plot(history_adam.history['val_loss'], label='Adam')\n",
    "plt.plot(history_sgd.history['val_loss'], label='SGD')\n",
    "#plt.plot(history_rmsprop.history['val_loss'], label='RMSprop')\n",
    "plt.plot(history_l2.history['val_loss'], label='L2 Regularization')\n",
    "#plt.plot(history_maxnorm.history['val_loss'], label='Max-Norm Constraint')\n",
    "plt.title('Validation Loss Comparison Across Techniques')\n",
    "plt.xlabel('Epochs')\n",
    "plt.ylabel('Validation Loss (MSE)')\n",
    "plt.legend()\n",
    "plt.show()\n"
   ]
  },
  {
   "cell_type": "code",
   "execution_count": null,
   "id": "925bd419-4443-4fbb-b78f-b6aed903d2f4",
   "metadata": {},
   "outputs": [],
   "source": []
  },
  {
   "cell_type": "markdown",
   "id": "d2c9ba91-45b1-47c9-95f1-41517ec42ced",
   "metadata": {},
   "source": [
    "### Hyperparameter Tuning\n",
    "Hyperparameter tuning can be accomplished through several methods, such as Grid Search, Random Search, or more advanced techniques like Bayesian Optimization. Here, we'll focus on a \n",
    "#### 1.simplified grid search approach to tune hyperparameters\n",
    "\n",
    "Hyperparameter Tuning Implementation"
   ]
  },
  {
   "cell_type": "code",
   "execution_count": 49,
   "id": "4efd7155-3237-4378-bb4f-98250fd123b5",
   "metadata": {},
   "outputs": [
    {
     "name": "stdout",
     "output_type": "stream",
     "text": [
      "Training model with params: {'batch_size': 16, 'dropout_rate': 0.0, 'epochs': 100, 'regularization_strength': 0.0}\n",
      "Training model with params: {'batch_size': 16, 'dropout_rate': 0.0, 'epochs': 100, 'regularization_strength': 0.01}\n",
      "Training model with params: {'batch_size': 16, 'dropout_rate': 0.0, 'epochs': 100, 'regularization_strength': 0.1}\n",
      "Training model with params: {'batch_size': 16, 'dropout_rate': 0.0, 'epochs': 100, 'regularization_strength': 0.5}\n",
      "Training model with params: {'batch_size': 16, 'dropout_rate': 0.2, 'epochs': 100, 'regularization_strength': 0.0}\n",
      "Training model with params: {'batch_size': 16, 'dropout_rate': 0.2, 'epochs': 100, 'regularization_strength': 0.01}\n",
      "Training model with params: {'batch_size': 16, 'dropout_rate': 0.2, 'epochs': 100, 'regularization_strength': 0.1}\n",
      "Training model with params: {'batch_size': 16, 'dropout_rate': 0.2, 'epochs': 100, 'regularization_strength': 0.5}\n",
      "Training model with params: {'batch_size': 16, 'dropout_rate': 0.3, 'epochs': 100, 'regularization_strength': 0.0}\n",
      "Training model with params: {'batch_size': 16, 'dropout_rate': 0.3, 'epochs': 100, 'regularization_strength': 0.01}\n",
      "Training model with params: {'batch_size': 16, 'dropout_rate': 0.3, 'epochs': 100, 'regularization_strength': 0.1}\n",
      "Training model with params: {'batch_size': 16, 'dropout_rate': 0.3, 'epochs': 100, 'regularization_strength': 0.5}\n",
      "Training model with params: {'batch_size': 16, 'dropout_rate': 0.5, 'epochs': 100, 'regularization_strength': 0.0}\n",
      "Training model with params: {'batch_size': 16, 'dropout_rate': 0.5, 'epochs': 100, 'regularization_strength': 0.01}\n",
      "Training model with params: {'batch_size': 16, 'dropout_rate': 0.5, 'epochs': 100, 'regularization_strength': 0.1}\n",
      "Training model with params: {'batch_size': 16, 'dropout_rate': 0.5, 'epochs': 100, 'regularization_strength': 0.5}\n",
      "Training model with params: {'batch_size': 32, 'dropout_rate': 0.0, 'epochs': 100, 'regularization_strength': 0.0}\n",
      "Training model with params: {'batch_size': 32, 'dropout_rate': 0.0, 'epochs': 100, 'regularization_strength': 0.01}\n",
      "Training model with params: {'batch_size': 32, 'dropout_rate': 0.0, 'epochs': 100, 'regularization_strength': 0.1}\n",
      "Training model with params: {'batch_size': 32, 'dropout_rate': 0.0, 'epochs': 100, 'regularization_strength': 0.5}\n",
      "Training model with params: {'batch_size': 32, 'dropout_rate': 0.2, 'epochs': 100, 'regularization_strength': 0.0}\n",
      "Training model with params: {'batch_size': 32, 'dropout_rate': 0.2, 'epochs': 100, 'regularization_strength': 0.01}\n",
      "Training model with params: {'batch_size': 32, 'dropout_rate': 0.2, 'epochs': 100, 'regularization_strength': 0.1}\n",
      "Training model with params: {'batch_size': 32, 'dropout_rate': 0.2, 'epochs': 100, 'regularization_strength': 0.5}\n",
      "Training model with params: {'batch_size': 32, 'dropout_rate': 0.3, 'epochs': 100, 'regularization_strength': 0.0}\n",
      "Training model with params: {'batch_size': 32, 'dropout_rate': 0.3, 'epochs': 100, 'regularization_strength': 0.01}\n",
      "Training model with params: {'batch_size': 32, 'dropout_rate': 0.3, 'epochs': 100, 'regularization_strength': 0.1}\n",
      "Training model with params: {'batch_size': 32, 'dropout_rate': 0.3, 'epochs': 100, 'regularization_strength': 0.5}\n",
      "Training model with params: {'batch_size': 32, 'dropout_rate': 0.5, 'epochs': 100, 'regularization_strength': 0.0}\n",
      "Training model with params: {'batch_size': 32, 'dropout_rate': 0.5, 'epochs': 100, 'regularization_strength': 0.01}\n",
      "Training model with params: {'batch_size': 32, 'dropout_rate': 0.5, 'epochs': 100, 'regularization_strength': 0.1}\n",
      "Training model with params: {'batch_size': 32, 'dropout_rate': 0.5, 'epochs': 100, 'regularization_strength': 0.5}\n",
      "Training model with params: {'batch_size': 64, 'dropout_rate': 0.0, 'epochs': 100, 'regularization_strength': 0.0}\n",
      "Training model with params: {'batch_size': 64, 'dropout_rate': 0.0, 'epochs': 100, 'regularization_strength': 0.01}\n",
      "Training model with params: {'batch_size': 64, 'dropout_rate': 0.0, 'epochs': 100, 'regularization_strength': 0.1}\n",
      "Training model with params: {'batch_size': 64, 'dropout_rate': 0.0, 'epochs': 100, 'regularization_strength': 0.5}\n",
      "Training model with params: {'batch_size': 64, 'dropout_rate': 0.2, 'epochs': 100, 'regularization_strength': 0.0}\n",
      "Training model with params: {'batch_size': 64, 'dropout_rate': 0.2, 'epochs': 100, 'regularization_strength': 0.01}\n",
      "Training model with params: {'batch_size': 64, 'dropout_rate': 0.2, 'epochs': 100, 'regularization_strength': 0.1}\n",
      "Training model with params: {'batch_size': 64, 'dropout_rate': 0.2, 'epochs': 100, 'regularization_strength': 0.5}\n",
      "Training model with params: {'batch_size': 64, 'dropout_rate': 0.3, 'epochs': 100, 'regularization_strength': 0.0}\n",
      "Training model with params: {'batch_size': 64, 'dropout_rate': 0.3, 'epochs': 100, 'regularization_strength': 0.01}\n",
      "Training model with params: {'batch_size': 64, 'dropout_rate': 0.3, 'epochs': 100, 'regularization_strength': 0.1}\n",
      "Training model with params: {'batch_size': 64, 'dropout_rate': 0.3, 'epochs': 100, 'regularization_strength': 0.5}\n",
      "Training model with params: {'batch_size': 64, 'dropout_rate': 0.5, 'epochs': 100, 'regularization_strength': 0.0}\n",
      "Training model with params: {'batch_size': 64, 'dropout_rate': 0.5, 'epochs': 100, 'regularization_strength': 0.01}\n",
      "Training model with params: {'batch_size': 64, 'dropout_rate': 0.5, 'epochs': 100, 'regularization_strength': 0.1}\n",
      "Training model with params: {'batch_size': 64, 'dropout_rate': 0.5, 'epochs': 100, 'regularization_strength': 0.5}\n",
      "Best params: {'batch_size': 16, 'dropout_rate': 0.0, 'epochs': 100, 'regularization_strength': 0.01} with MAE: 0.4929535388946533\n"
     ]
    }
   ],
   "source": [
    "from sklearn.model_selection import ParameterGrid\n",
    "from keras.models import Sequential\n",
    "from keras.layers import Dense, Dropout\n",
    "from keras.regularizers import l1\n",
    "from keras.callbacks import EarlyStopping\n",
    "\n",
    "# Function to create model with hyperparameters\n",
    "def create_model(regularization_strength=0.0, dropout_rate=0.0):\n",
    "    model = Sequential()\n",
    "    model.add(Dense(64, activation='relu', input_shape=(X_train.shape[1],), kernel_regularizer=l1(regularization_strength)))\n",
    "    model.add(Dropout(dropout_rate))\n",
    "    model.add(Dense(32, activation='relu'))\n",
    "    model.add(Dense(1, activation='linear'))  # For regression output\n",
    "    model.compile(optimizer='adam', loss='mean_squared_error', metrics=['mae'])\n",
    "    return model\n",
    "\n",
    "# Define hyperparameters to tune\n",
    "param_grid = {\n",
    "    'regularization_strength': [0.0, 0.01, 0.1, 0.5],\n",
    "    'dropout_rate': [0.0, 0.2, 0.3, 0.5],\n",
    "    'batch_size': [16, 32, 64],\n",
    "    'epochs': [100],\n",
    "}\n",
    "\n",
    "# Create parameter combinations\n",
    "grid = ParameterGrid(param_grid)\n",
    "\n",
    "best_model = None\n",
    "best_mae = float('inf')\n",
    "best_params = {}\n",
    "\n",
    "# Initialize a list to store results\n",
    "results_list = []\n",
    "\n",
    "# Loop over all parameter combinations\n",
    "for params in grid:\n",
    "    print(f\"Training model with params: {params}\")\n",
    "    model = create_model(params['regularization_strength'], params['dropout_rate'])\n",
    "    \n",
    "    # Use early stopping to avoid overfitting\n",
    "    early_stopping = EarlyStopping(monitor='val_loss', patience=10)\n",
    "    \n",
    "    history = model.fit(X_train, y_train, \n",
    "                        validation_data=(X_test, y_test),\n",
    "                        epochs=params['epochs'], \n",
    "                        batch_size=params['batch_size'], \n",
    "                        callbacks=[early_stopping],\n",
    "                        verbose=0)\n",
    "    \n",
    "    # Evaluate the model\n",
    "    val_mae = min(history.history['val_mae'])\n",
    "    \n",
    "    # Store results in the list\n",
    "    results_list.append({\n",
    "        'Regularization Strength': params['regularization_strength'],\n",
    "        'Dropout Rate': params['dropout_rate'],\n",
    "        'Batch Size': params['batch_size'],\n",
    "        'Mean Test Score (MAE)': val_mae\n",
    "    })\n",
    "    \n",
    "    # Check if this model is the best\n",
    "    if val_mae < best_mae:\n",
    "        best_mae = val_mae\n",
    "        best_model = model\n",
    "        best_params = params\n",
    "\n",
    "print(f\"Best params: {best_params} with MAE: {best_mae}\")\n",
    "\n"
   ]
  },
  {
   "cell_type": "code",
   "execution_count": 50,
   "id": "c254cac0-8497-4c28-9292-d6abe7fe0b2b",
   "metadata": {},
   "outputs": [
    {
     "data": {
      "image/png": "[encoded data removed]",
      "text/plain": [
       "<Figure size 1400x1000 with 4 Axes>"
      ]
     },
     "metadata": {},
     "output_type": "display_data"
    }
   ],
   "source": [
    "import matplotlib.pyplot as plt\n",
    "import seaborn as sns\n",
    "import pandas as pd\n",
    "# Convert results to a DataFrame\n",
    "results_df = pd.DataFrame(results_list)\n",
    "\n",
    "# Create a grid of subplots\n",
    "fig, axes = plt.subplots(2, 2, figsize=(14, 10))\n",
    "fig.suptitle('Hyperparameter Tuning Results', fontsize=16)\n",
    "\n",
    "# Plot Mean Test Score vs Regularization Strength\n",
    "sns.boxplot(data=results_df, x='Regularization Strength', y='Mean Test Score (MAE)', ax=axes[0, 0])\n",
    "axes[0, 0].set_title('MAE vs Regularization Strength')\n",
    "\n",
    "# Plot Mean Test Score vs Dropout Rate\n",
    "sns.boxplot(data=results_df, x='Dropout Rate', y='Mean Test Score (MAE)', ax=axes[0, 1])\n",
    "axes[0, 1].set_title('MAE vs Dropout Rate')\n",
    "\n",
    "# Plot Mean Test Score vs Batch Size\n",
    "sns.boxplot(data=results_df, x='Batch Size', y='Mean Test Score (MAE)', ax=axes[1, 0])\n",
    "axes[1, 0].set_title('MAE vs Batch Size')\n",
    "\n",
    "# Hide the last subplot as it's not used\n",
    "axes[1, 1].axis('off')\n",
    "\n",
    "# Adjust layout\n",
    "plt.tight_layout(rect=[0, 0, 1, 0.96])\n",
    "plt.show()\n"
   ]
  },
  {
   "cell_type": "markdown",
   "id": "dbeb34ad-d8e4-412f-93c9-29392534bff8",
   "metadata": {},
   "source": [
    "### Keras Auto Tuner"
   ]
  },
  {
   "cell_type": "markdown",
   "id": "ce5dd801-77cc-4bb7-8a21-27e949799b8b",
   "metadata": {},
   "source": [
    "Keras has an auto-tuning library called Keras Tuner that helps automate the process of hyperparameter tuning, allowing you to find the best set of hyperparameters for your model efficiently. It supports grid search, random search, and a more advanced technique called Bayesian Optimization to find the optimal values for hyperparameters like learning rates, regularization strengths, number of units, and more.\n",
    "\n",
    "Here’s a simple workflow using Keras Tuner for hyperparameter tuning:\n",
    "\n",
    "Define a model-building function where the hyperparameters you want to tune are set as arguments.\n",
    "Configure the tuner (RandomSearch, BayesianOptimization, etc.).\n",
    "Run the tuning to find the best hyperparameters.\n",
    "Here’s an example to show how to use Keras Tuner for a Sequential model:"
   ]
  },
  {
   "cell_type": "code",
   "execution_count": 54,
   "id": "e3ac3f48-b1e0-4c88-9c80-d6df3d9c91c5",
   "metadata": {},
   "outputs": [
    {
     "name": "stdout",
     "output_type": "stream",
     "text": [
      "Note: you may need to restart the kernel to use updated packages.\n"
     ]
    }
   ],
   "source": [
    "pip install -q -U keras-tuner"
   ]
  },
  {
   "cell_type": "code",
   "execution_count": 55,
   "id": "9ec08550-d87a-47f0-8a02-d0c0738fe9fe",
   "metadata": {},
   "outputs": [
    {
     "name": "stdout",
     "output_type": "stream",
     "text": [
      "Trial 10 Complete [00h 00m 05s]\n",
      "val_mae: 0.5105578899383545\n",
      "\n",
      "Best val_mae So Far: 0.508630096912384\n",
      "Total elapsed time: 00h 00m 55s\n"
     ]
    },
    {
     "name": "stderr",
     "output_type": "stream",
     "text": [
      "C:\\Users\\ASIM\\anaconda3\\Lib\\site-packages\\keras\\src\\saving\\saving_lib.py:415: UserWarning: Skipping variable loading for optimizer 'adam', because it has 2 variables whereas the saved optimizer has 10 variables. \n",
      "  saveable.load_own_variables(weights_store.get(inner_path))\n"
     ]
    },
    {
     "name": "stdout",
     "output_type": "stream",
     "text": [
      "Best Hyperparameters: {'units': 256, 'dropout': 0.1, 'learning_rate': 0.00263103928490968}\n",
      "\u001b[1m3/3\u001b[0m \u001b[32m━━━━━━━━━━━━━━━━━━━━\u001b[0m\u001b[37m\u001b[0m \u001b[1m0s\u001b[0m 5ms/step - loss: 0.4305 - mae: 0.5138  \n",
      "Best Model Test MAE: 0.508630096912384\n"
     ]
    }
   ],
   "source": [
    "import keras_tuner as kt\n",
    "from keras.models import Sequential\n",
    "from keras.layers import Dense, Dropout\n",
    "from keras.regularizers import l2\n",
    "from keras.optimizers import Adam\n",
    "\n",
    "# Define the model-building function\n",
    "def build_model(hp):\n",
    "    model = Sequential()\n",
    "    # Tune the number of units in the first dense layer\n",
    "    units = hp.Int('units', min_value=32, max_value=512, step=32)\n",
    "    model.add(Dense(units=units, activation='relu', input_shape=(X_train.shape[1],)))\n",
    "\n",
    "    # Tune the dropout rate\n",
    "    dropout_rate = hp.Float('dropout', min_value=0.0, max_value=0.5, step=0.1)\n",
    "    model.add(Dropout(dropout_rate))\n",
    "\n",
    "    # Output layer\n",
    "    model.add(Dense(1, activation='linear'))\n",
    "\n",
    "    # Tune the learning rate for the optimizer\n",
    "    learning_rate = hp.Float('learning_rate', min_value=1e-4, max_value=1e-2, sampling='log')\n",
    "    model.compile(optimizer=Adam(learning_rate=learning_rate), \n",
    "                  loss='mean_squared_error', \n",
    "                  metrics=['mae'])\n",
    "    \n",
    "    return model\n",
    "\n",
    "# Initialize the tuner (RandomSearch or BayesianOptimization)\n",
    "tuner = kt.RandomSearch(\n",
    "    build_model,\n",
    "    objective='val_mae',\n",
    "    max_trials=10,  # Number of models to try\n",
    "    executions_per_trial=1,  # Number of times to repeat each model configuration\n",
    "    directory='tuner_results',\n",
    "    project_name='xyz'\n",
    ")\n",
    "\n",
    "# Search for the best hyperparameters\n",
    "tuner.search(X_train, y_train, \n",
    "             epochs=50, \n",
    "             validation_data=(X_test, y_test),\n",
    "             callbacks=[EarlyStopping(monitor='val_loss', patience=5)])\n",
    "\n",
    "# Get the best model and hyperparameters\n",
    "best_model = tuner.get_best_models(num_models=1)[0]\n",
    "best_hyperparameters = tuner.get_best_hyperparameters(num_trials=1)[0]\n",
    "\n",
    "# Print best hyperparameters\n",
    "print(f\"Best Hyperparameters: {best_hyperparameters.values}\")\n",
    "\n",
    "# Evaluate the best model\n",
    "loss, mae = best_model.evaluate(X_test, y_test)\n",
    "print(f\"Best Model Test MAE: {mae}\")\n"
   ]
  }
 ],
 "metadata": {
  "kernelspec": {
   "display_name": "Python 3 (ipykernel)",
   "language": "python",
   "name": "python3"
  },
  "language_info": {
   "codemirror_mode": {
    "name": "ipython",
    "version": 3
   },
   "file_extension": ".py",
   "mimetype": "text/x-python",
   "name": "python",
   "nbconvert_exporter": "python",
   "pygments_lexer": "ipython3",
   "version": "3.11.7"
  }
 },
 "nbformat": 4,
 "nbformat_minor": 5
}
